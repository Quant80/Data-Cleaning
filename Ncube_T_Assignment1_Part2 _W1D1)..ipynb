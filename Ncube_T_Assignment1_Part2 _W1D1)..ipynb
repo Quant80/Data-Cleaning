{
 "cells": [
  {
   "cell_type": "markdown",
   "id": "d5d3ce87",
   "metadata": {},
   "source": [
    "### Loading Data,Shape and Showing the first few Columns"
   ]
  },
  {
   "cell_type": "code",
   "execution_count": 19,
   "id": "af1d1fdd",
   "metadata": {},
   "outputs": [],
   "source": [
    "import pandas as pd\n",
    "import json\n",
    "import pprint\n",
    "import requests\n",
    "import pymssql"
   ]
  },
  {
   "cell_type": "code",
   "execution_count": 28,
   "id": "74781046",
   "metadata": {},
   "outputs": [],
   "source": [
    "data = pd.read_json('A1_cars_w_missing_data_FIXED.json')"
   ]
  },
  {
   "cell_type": "code",
   "execution_count": 29,
   "id": "a9194bee",
   "metadata": {},
   "outputs": [
    {
     "data": {
      "text/html": [
       "<div>\n",
       "<style scoped>\n",
       "    .dataframe tbody tr th:only-of-type {\n",
       "        vertical-align: middle;\n",
       "    }\n",
       "\n",
       "    .dataframe tbody tr th {\n",
       "        vertical-align: top;\n",
       "    }\n",
       "\n",
       "    .dataframe thead th {\n",
       "        text-align: right;\n",
       "    }\n",
       "</style>\n",
       "<table border=\"1\" class=\"dataframe\">\n",
       "  <thead>\n",
       "    <tr style=\"text-align: right;\">\n",
       "      <th></th>\n",
       "      <th>Name</th>\n",
       "      <th>Miles_per_Gallon</th>\n",
       "      <th>Cylinders</th>\n",
       "      <th>Displacement</th>\n",
       "      <th>Horsepower</th>\n",
       "      <th>Weight_in_lbs</th>\n",
       "      <th>Acceleration</th>\n",
       "      <th>Year</th>\n",
       "      <th>Origin</th>\n",
       "    </tr>\n",
       "  </thead>\n",
       "  <tbody>\n",
       "    <tr>\n",
       "      <th>0</th>\n",
       "      <td>chevrolet chevelle malibu</td>\n",
       "      <td>18</td>\n",
       "      <td>8</td>\n",
       "      <td>307</td>\n",
       "      <td>130</td>\n",
       "      <td>3504</td>\n",
       "      <td>12</td>\n",
       "      <td>1970-01-01</td>\n",
       "      <td>USA</td>\n",
       "    </tr>\n",
       "    <tr>\n",
       "      <th>1</th>\n",
       "      <td>buick skylark 320</td>\n",
       "      <td>15</td>\n",
       "      <td>8</td>\n",
       "      <td>350</td>\n",
       "      <td>165</td>\n",
       "      <td>3693</td>\n",
       "      <td>11.5</td>\n",
       "      <td>1970-01-01</td>\n",
       "      <td>USA</td>\n",
       "    </tr>\n",
       "    <tr>\n",
       "      <th>2</th>\n",
       "      <td>plymouth satellite</td>\n",
       "      <td>18</td>\n",
       "      <td>8</td>\n",
       "      <td>318</td>\n",
       "      <td>150</td>\n",
       "      <td>3436</td>\n",
       "      <td>11</td>\n",
       "      <td>1970-01-01</td>\n",
       "      <td>USA</td>\n",
       "    </tr>\n",
       "    <tr>\n",
       "      <th>3</th>\n",
       "      <td>amc rebel sst</td>\n",
       "      <td>16</td>\n",
       "      <td>8</td>\n",
       "      <td>304</td>\n",
       "      <td>150</td>\n",
       "      <td>3433</td>\n",
       "      <td>12</td>\n",
       "      <td>1970-01-01</td>\n",
       "      <td>USA</td>\n",
       "    </tr>\n",
       "    <tr>\n",
       "      <th>4</th>\n",
       "      <td>ford torino</td>\n",
       "      <td>17</td>\n",
       "      <td>8</td>\n",
       "      <td>302</td>\n",
       "      <td>140</td>\n",
       "      <td>3449</td>\n",
       "      <td>10.5</td>\n",
       "      <td>1970-01-01</td>\n",
       "      <td>USA</td>\n",
       "    </tr>\n",
       "  </tbody>\n",
       "</table>\n",
       "</div>"
      ],
      "text/plain": [
       "                        Name Miles_per_Gallon Cylinders Displacement  \\\n",
       "0  chevrolet chevelle malibu               18         8          307   \n",
       "1          buick skylark 320               15         8          350   \n",
       "2         plymouth satellite               18         8          318   \n",
       "3              amc rebel sst               16         8          304   \n",
       "4                ford torino               17         8          302   \n",
       "\n",
       "  Horsepower Weight_in_lbs Acceleration        Year Origin  \n",
       "0        130          3504           12  1970-01-01    USA  \n",
       "1        165          3693         11.5  1970-01-01    USA  \n",
       "2        150          3436           11  1970-01-01    USA  \n",
       "3        150          3433           12  1970-01-01    USA  \n",
       "4        140          3449         10.5  1970-01-01    USA  "
      ]
     },
     "execution_count": 29,
     "metadata": {},
     "output_type": "execute_result"
    }
   ],
   "source": [
    "data.head()"
   ]
  },
  {
   "cell_type": "code",
   "execution_count": 30,
   "id": "438805d9",
   "metadata": {},
   "outputs": [
    {
     "data": {
      "text/plain": [
       "Name                object\n",
       "Miles_per_Gallon    object\n",
       "Cylinders           object\n",
       "Displacement        object\n",
       "Horsepower          object\n",
       "Weight_in_lbs       object\n",
       "Acceleration        object\n",
       "Year                object\n",
       "Origin              object\n",
       "dtype: object"
      ]
     },
     "execution_count": 30,
     "metadata": {},
     "output_type": "execute_result"
    }
   ],
   "source": [
    "data.dtypes"
   ]
  },
  {
   "cell_type": "code",
   "execution_count": 31,
   "id": "dfa82970",
   "metadata": {},
   "outputs": [
    {
     "data": {
      "text/plain": [
       "(406, 9)"
      ]
     },
     "execution_count": 31,
     "metadata": {},
     "output_type": "execute_result"
    }
   ],
   "source": [
    "data.shape"
   ]
  },
  {
   "cell_type": "markdown",
   "id": "5aa81f97",
   "metadata": {},
   "source": [
    "### Finding and displaying the missing values for each data column"
   ]
  },
  {
   "cell_type": "code",
   "execution_count": 32,
   "id": "35cc4a2a",
   "metadata": {},
   "outputs": [
    {
     "data": {
      "text/plain": [
       "Name                0\n",
       "Miles_per_Gallon    8\n",
       "Cylinders           0\n",
       "Displacement        0\n",
       "Horsepower          6\n",
       "Weight_in_lbs       0\n",
       "Acceleration        0\n",
       "Year                0\n",
       "Origin              0\n",
       "dtype: int64"
      ]
     },
     "execution_count": 32,
     "metadata": {},
     "output_type": "execute_result"
    }
   ],
   "source": [
    "data.isnull().sum()"
   ]
  },
  {
   "cell_type": "markdown",
   "id": "b510c7b3",
   "metadata": {},
   "source": [
    "### Renaming data columns"
   ]
  },
  {
   "cell_type": "code",
   "execution_count": 33,
   "id": "4ff348a9",
   "metadata": {},
   "outputs": [],
   "source": [
    "data.rename(columns={'Name' : 'Car_model'}, inplace=True)"
   ]
  },
  {
   "cell_type": "code",
   "execution_count": 34,
   "id": "c3540e03",
   "metadata": {},
   "outputs": [
    {
     "data": {
      "text/html": [
       "<div>\n",
       "<style scoped>\n",
       "    .dataframe tbody tr th:only-of-type {\n",
       "        vertical-align: middle;\n",
       "    }\n",
       "\n",
       "    .dataframe tbody tr th {\n",
       "        vertical-align: top;\n",
       "    }\n",
       "\n",
       "    .dataframe thead th {\n",
       "        text-align: right;\n",
       "    }\n",
       "</style>\n",
       "<table border=\"1\" class=\"dataframe\">\n",
       "  <thead>\n",
       "    <tr style=\"text-align: right;\">\n",
       "      <th></th>\n",
       "      <th>Car_model</th>\n",
       "      <th>Miles_per_Gallon</th>\n",
       "      <th>Cylinders</th>\n",
       "      <th>Displacement</th>\n",
       "      <th>Horsepower</th>\n",
       "      <th>Weight_in_lbs</th>\n",
       "      <th>Acceleration</th>\n",
       "      <th>Year</th>\n",
       "      <th>Origin</th>\n",
       "    </tr>\n",
       "  </thead>\n",
       "  <tbody>\n",
       "    <tr>\n",
       "      <th>0</th>\n",
       "      <td>chevrolet chevelle malibu</td>\n",
       "      <td>18</td>\n",
       "      <td>8</td>\n",
       "      <td>307</td>\n",
       "      <td>130</td>\n",
       "      <td>3504</td>\n",
       "      <td>12</td>\n",
       "      <td>1970-01-01</td>\n",
       "      <td>USA</td>\n",
       "    </tr>\n",
       "    <tr>\n",
       "      <th>1</th>\n",
       "      <td>buick skylark 320</td>\n",
       "      <td>15</td>\n",
       "      <td>8</td>\n",
       "      <td>350</td>\n",
       "      <td>165</td>\n",
       "      <td>3693</td>\n",
       "      <td>11.5</td>\n",
       "      <td>1970-01-01</td>\n",
       "      <td>USA</td>\n",
       "    </tr>\n",
       "  </tbody>\n",
       "</table>\n",
       "</div>"
      ],
      "text/plain": [
       "                   Car_model Miles_per_Gallon Cylinders Displacement  \\\n",
       "0  chevrolet chevelle malibu               18         8          307   \n",
       "1          buick skylark 320               15         8          350   \n",
       "\n",
       "  Horsepower Weight_in_lbs Acceleration        Year Origin  \n",
       "0        130          3504           12  1970-01-01    USA  \n",
       "1        165          3693         11.5  1970-01-01    USA  "
      ]
     },
     "execution_count": 34,
     "metadata": {},
     "output_type": "execute_result"
    }
   ],
   "source": [
    "data.head(2)"
   ]
  },
  {
   "cell_type": "markdown",
   "id": "0dc51fe0",
   "metadata": {},
   "source": [
    "### Removing rows with missing data"
   ]
  },
  {
   "cell_type": "code",
   "execution_count": 43,
   "id": "63b787b9",
   "metadata": {},
   "outputs": [
    {
     "data": {
      "text/plain": [
       "(389, 9)"
      ]
     },
     "execution_count": 43,
     "metadata": {},
     "output_type": "execute_result"
    }
   ],
   "source": [
    "data.dropna(subset=['Miles_per_Gallon','Horsepower'], inplace=True)\n",
    "data.shape"
   ]
  },
  {
   "cell_type": "markdown",
   "id": "bd13b492",
   "metadata": {},
   "source": [
    "### Converting the data columns to numeric values"
   ]
  },
  {
   "cell_type": "code",
   "execution_count": 44,
   "id": "fb4b2609",
   "metadata": {},
   "outputs": [],
   "source": [
    "data[['Cylinders', 'Displacement', 'Weight_in_lbs', 'Acceleration']] = data[['Cylinders', 'Displacement',  'Weight_in_lbs', 'Acceleration']].apply(pd.to_numeric, errors='coerce')"
   ]
  },
  {
   "cell_type": "code",
   "execution_count": 45,
   "id": "9be49e76",
   "metadata": {},
   "outputs": [
    {
     "name": "stdout",
     "output_type": "stream",
     "text": [
      "<class 'pandas.core.frame.DataFrame'>\n",
      "Int64Index: 389 entries, 0 to 405\n",
      "Data columns (total 9 columns):\n",
      " #   Column            Non-Null Count  Dtype  \n",
      "---  ------            --------------  -----  \n",
      " 0   Car_model         389 non-null    object \n",
      " 1   Miles_per_Gallon  389 non-null    float64\n",
      " 2   Cylinders         387 non-null    float64\n",
      " 3   Displacement      388 non-null    float64\n",
      " 4   Horsepower        389 non-null    float64\n",
      " 5   Weight_in_lbs     387 non-null    float64\n",
      " 6   Acceleration      384 non-null    float64\n",
      " 7   Year              389 non-null    object \n",
      " 8   Origin            389 non-null    object \n",
      "dtypes: float64(6), object(3)\n",
      "memory usage: 30.4+ KB\n"
     ]
    }
   ],
   "source": [
    "data.info()"
   ]
  },
  {
   "cell_type": "markdown",
   "id": "5a208292",
   "metadata": {},
   "source": [
    "### Converting all date columns to a date data type"
   ]
  },
  {
   "cell_type": "code",
   "execution_count": 47,
   "id": "7da668f1",
   "metadata": {},
   "outputs": [
    {
     "data": {
      "text/plain": [
       "0     1970-01-01\n",
       "1     1970-01-01\n",
       "2     1970-01-01\n",
       "3     1970-01-01\n",
       "4     1970-01-01\n",
       "         ...    \n",
       "401   1982-01-01\n",
       "402   1982-01-01\n",
       "403   1982-01-01\n",
       "404   1982-01-01\n",
       "405   1982-01-01\n",
       "Name: Year, Length: 389, dtype: datetime64[ns]"
      ]
     },
     "execution_count": 47,
     "metadata": {},
     "output_type": "execute_result"
    }
   ],
   "source": [
    "pd.to_datetime(data['Year'])"
   ]
  },
  {
   "cell_type": "markdown",
   "id": "f11351af",
   "metadata": {},
   "source": [
    "### Summary statistics"
   ]
  },
  {
   "cell_type": "code",
   "execution_count": 48,
   "id": "1516bb22",
   "metadata": {},
   "outputs": [
    {
     "data": {
      "text/html": [
       "<div>\n",
       "<style scoped>\n",
       "    .dataframe tbody tr th:only-of-type {\n",
       "        vertical-align: middle;\n",
       "    }\n",
       "\n",
       "    .dataframe tbody tr th {\n",
       "        vertical-align: top;\n",
       "    }\n",
       "\n",
       "    .dataframe thead th {\n",
       "        text-align: right;\n",
       "    }\n",
       "</style>\n",
       "<table border=\"1\" class=\"dataframe\">\n",
       "  <thead>\n",
       "    <tr style=\"text-align: right;\">\n",
       "      <th></th>\n",
       "      <th>Miles_per_Gallon</th>\n",
       "      <th>Cylinders</th>\n",
       "      <th>Displacement</th>\n",
       "      <th>Horsepower</th>\n",
       "      <th>Weight_in_lbs</th>\n",
       "      <th>Acceleration</th>\n",
       "    </tr>\n",
       "  </thead>\n",
       "  <tbody>\n",
       "    <tr>\n",
       "      <th>count</th>\n",
       "      <td>389.000000</td>\n",
       "      <td>387.000000</td>\n",
       "      <td>388.000000</td>\n",
       "      <td>389.000000</td>\n",
       "      <td>387.000000</td>\n",
       "      <td>384.000000</td>\n",
       "    </tr>\n",
       "    <tr>\n",
       "      <th>mean</th>\n",
       "      <td>23.485347</td>\n",
       "      <td>5.475452</td>\n",
       "      <td>194.143041</td>\n",
       "      <td>104.437018</td>\n",
       "      <td>2969.974160</td>\n",
       "      <td>15.559115</td>\n",
       "    </tr>\n",
       "    <tr>\n",
       "      <th>std</th>\n",
       "      <td>7.813764</td>\n",
       "      <td>1.706826</td>\n",
       "      <td>104.806556</td>\n",
       "      <td>38.608453</td>\n",
       "      <td>849.564746</td>\n",
       "      <td>2.775324</td>\n",
       "    </tr>\n",
       "    <tr>\n",
       "      <th>min</th>\n",
       "      <td>9.000000</td>\n",
       "      <td>3.000000</td>\n",
       "      <td>68.000000</td>\n",
       "      <td>46.000000</td>\n",
       "      <td>1613.000000</td>\n",
       "      <td>8.000000</td>\n",
       "    </tr>\n",
       "    <tr>\n",
       "      <th>25%</th>\n",
       "      <td>17.000000</td>\n",
       "      <td>4.000000</td>\n",
       "      <td>104.750000</td>\n",
       "      <td>75.000000</td>\n",
       "      <td>2221.500000</td>\n",
       "      <td>13.800000</td>\n",
       "    </tr>\n",
       "    <tr>\n",
       "      <th>50%</th>\n",
       "      <td>23.000000</td>\n",
       "      <td>4.000000</td>\n",
       "      <td>148.500000</td>\n",
       "      <td>93.000000</td>\n",
       "      <td>2790.000000</td>\n",
       "      <td>15.500000</td>\n",
       "    </tr>\n",
       "    <tr>\n",
       "      <th>75%</th>\n",
       "      <td>29.000000</td>\n",
       "      <td>8.000000</td>\n",
       "      <td>263.250000</td>\n",
       "      <td>125.000000</td>\n",
       "      <td>3611.000000</td>\n",
       "      <td>17.200000</td>\n",
       "    </tr>\n",
       "    <tr>\n",
       "      <th>max</th>\n",
       "      <td>46.600000</td>\n",
       "      <td>8.000000</td>\n",
       "      <td>455.000000</td>\n",
       "      <td>230.000000</td>\n",
       "      <td>5140.000000</td>\n",
       "      <td>24.800000</td>\n",
       "    </tr>\n",
       "  </tbody>\n",
       "</table>\n",
       "</div>"
      ],
      "text/plain": [
       "       Miles_per_Gallon   Cylinders  Displacement  Horsepower  Weight_in_lbs  \\\n",
       "count        389.000000  387.000000    388.000000  389.000000     387.000000   \n",
       "mean          23.485347    5.475452    194.143041  104.437018    2969.974160   \n",
       "std            7.813764    1.706826    104.806556   38.608453     849.564746   \n",
       "min            9.000000    3.000000     68.000000   46.000000    1613.000000   \n",
       "25%           17.000000    4.000000    104.750000   75.000000    2221.500000   \n",
       "50%           23.000000    4.000000    148.500000   93.000000    2790.000000   \n",
       "75%           29.000000    8.000000    263.250000  125.000000    3611.000000   \n",
       "max           46.600000    8.000000    455.000000  230.000000    5140.000000   \n",
       "\n",
       "       Acceleration  \n",
       "count    384.000000  \n",
       "mean      15.559115  \n",
       "std        2.775324  \n",
       "min        8.000000  \n",
       "25%       13.800000  \n",
       "50%       15.500000  \n",
       "75%       17.200000  \n",
       "max       24.800000  "
      ]
     },
     "execution_count": 48,
     "metadata": {},
     "output_type": "execute_result"
    }
   ],
   "source": [
    "data.describe()"
   ]
  },
  {
   "cell_type": "markdown",
   "id": "a5fb4d73",
   "metadata": {},
   "source": [
    "### End Thank You!"
   ]
  },
  {
   "cell_type": "code",
   "execution_count": null,
   "id": "5a945d4f",
   "metadata": {},
   "outputs": [],
   "source": []
  }
 ],
 "metadata": {
  "kernelspec": {
   "display_name": "Python 3",
   "language": "python",
   "name": "python3"
  },
  "language_info": {
   "codemirror_mode": {
    "name": "ipython",
    "version": 3
   },
   "file_extension": ".py",
   "mimetype": "text/x-python",
   "name": "python",
   "nbconvert_exporter": "python",
   "pygments_lexer": "ipython3",
   "version": "3.8.8"
  }
 },
 "nbformat": 4,
 "nbformat_minor": 5
}
